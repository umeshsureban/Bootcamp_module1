{
  "cells": [
    {
      "cell_type": "markdown",
      "metadata": {
        "id": "view-in-github",
        "colab_type": "text"
      },
      "source": [
        "<a href=\"https://colab.research.google.com/github/umeshsureban/Bootcamp_module1/blob/main/Using_LLMs_with_APIs.ipynb\" target=\"_parent\"><img src=\"https://colab.research.google.com/assets/colab-badge.svg\" alt=\"Open In Colab\"/></a>"
      ]
    },
    {
      "cell_type": "markdown",
      "metadata": {
        "id": "8xgmhFrxFdZ1"
      },
      "source": [
        "## Using LLMs with APIs\n",
        "\n",
        "In this notebook, we will cover how you can use different LLMs across providers using simple APIs\n",
        "\n",
        "We will cover\n",
        "\n",
        "1. OpenAI Models\n",
        "2. Gemini Models\n",
        "3. Llama and Other Open Source models\n"
      ]
    },
    {
      "cell_type": "markdown",
      "metadata": {
        "id": "hza7XrQaAf0C"
      },
      "source": [
        "### Using OpenAI Models"
      ]
    },
    {
      "cell_type": "code",
      "execution_count": null,
      "metadata": {
        "colab": {
          "base_uri": "https://localhost:8080/"
        },
        "id": "AeWgbkytAfoK",
        "outputId": "20fb036a-1bef-4d02-d589-133ca6cd6e4a"
      },
      "outputs": [
        {
          "name": "stdout",
          "output_type": "stream",
          "text": [
            "Requirement already satisfied: langchain-openai in ./genai-bootcamp/lib/python3.10/site-packages (0.2.2)\n",
            "Requirement already satisfied: langchain-core<0.4.0,>=0.3.9 in ./genai-bootcamp/lib/python3.10/site-packages (from langchain-openai) (0.3.9)\n",
            "Requirement already satisfied: openai<2.0.0,>=1.40.0 in ./genai-bootcamp/lib/python3.10/site-packages (from langchain-openai) (1.51.0)\n",
            "Requirement already satisfied: tiktoken<1,>=0.7 in ./genai-bootcamp/lib/python3.10/site-packages (from langchain-openai) (0.8.0)\n",
            "Requirement already satisfied: PyYAML>=5.3 in ./genai-bootcamp/lib/python3.10/site-packages (from langchain-core<0.4.0,>=0.3.9->langchain-openai) (6.0.2)\n",
            "Requirement already satisfied: jsonpatch<2.0,>=1.33 in ./genai-bootcamp/lib/python3.10/site-packages (from langchain-core<0.4.0,>=0.3.9->langchain-openai) (1.33)\n",
            "Requirement already satisfied: langsmith<0.2.0,>=0.1.125 in ./genai-bootcamp/lib/python3.10/site-packages (from langchain-core<0.4.0,>=0.3.9->langchain-openai) (0.1.131)\n",
            "Requirement already satisfied: packaging<25,>=23.2 in ./genai-bootcamp/lib/python3.10/site-packages (from langchain-core<0.4.0,>=0.3.9->langchain-openai) (24.1)\n",
            "Requirement already satisfied: pydantic<3.0.0,>=2.5.2 in ./genai-bootcamp/lib/python3.10/site-packages (from langchain-core<0.4.0,>=0.3.9->langchain-openai) (2.9.2)\n",
            "Requirement already satisfied: tenacity!=8.4.0,<9.0.0,>=8.1.0 in ./genai-bootcamp/lib/python3.10/site-packages (from langchain-core<0.4.0,>=0.3.9->langchain-openai) (8.5.0)\n",
            "Requirement already satisfied: typing-extensions>=4.7 in ./genai-bootcamp/lib/python3.10/site-packages (from langchain-core<0.4.0,>=0.3.9->langchain-openai) (4.12.2)\n",
            "Requirement already satisfied: anyio<5,>=3.5.0 in ./genai-bootcamp/lib/python3.10/site-packages (from openai<2.0.0,>=1.40.0->langchain-openai) (4.6.0)\n",
            "Requirement already satisfied: distro<2,>=1.7.0 in ./genai-bootcamp/lib/python3.10/site-packages (from openai<2.0.0,>=1.40.0->langchain-openai) (1.9.0)\n",
            "Requirement already satisfied: httpx<1,>=0.23.0 in ./genai-bootcamp/lib/python3.10/site-packages (from openai<2.0.0,>=1.40.0->langchain-openai) (0.27.2)\n",
            "Requirement already satisfied: jiter<1,>=0.4.0 in ./genai-bootcamp/lib/python3.10/site-packages (from openai<2.0.0,>=1.40.0->langchain-openai) (0.5.0)\n",
            "Requirement already satisfied: sniffio in ./genai-bootcamp/lib/python3.10/site-packages (from openai<2.0.0,>=1.40.0->langchain-openai) (1.3.1)\n",
            "Requirement already satisfied: tqdm>4 in ./genai-bootcamp/lib/python3.10/site-packages (from openai<2.0.0,>=1.40.0->langchain-openai) (4.66.5)\n",
            "Requirement already satisfied: regex>=2022.1.18 in ./genai-bootcamp/lib/python3.10/site-packages (from tiktoken<1,>=0.7->langchain-openai) (2024.9.11)\n",
            "Requirement already satisfied: requests>=2.26.0 in ./genai-bootcamp/lib/python3.10/site-packages (from tiktoken<1,>=0.7->langchain-openai) (2.32.3)\n",
            "Requirement already satisfied: idna>=2.8 in ./genai-bootcamp/lib/python3.10/site-packages (from anyio<5,>=3.5.0->openai<2.0.0,>=1.40.0->langchain-openai) (3.10)\n",
            "Requirement already satisfied: exceptiongroup>=1.0.2 in ./genai-bootcamp/lib/python3.10/site-packages (from anyio<5,>=3.5.0->openai<2.0.0,>=1.40.0->langchain-openai) (1.2.2)\n",
            "Requirement already satisfied: certifi in ./genai-bootcamp/lib/python3.10/site-packages (from httpx<1,>=0.23.0->openai<2.0.0,>=1.40.0->langchain-openai) (2024.8.30)\n",
            "Requirement already satisfied: httpcore==1.* in ./genai-bootcamp/lib/python3.10/site-packages (from httpx<1,>=0.23.0->openai<2.0.0,>=1.40.0->langchain-openai) (1.0.6)\n",
            "Requirement already satisfied: h11<0.15,>=0.13 in ./genai-bootcamp/lib/python3.10/site-packages (from httpcore==1.*->httpx<1,>=0.23.0->openai<2.0.0,>=1.40.0->langchain-openai) (0.14.0)\n",
            "Requirement already satisfied: jsonpointer>=1.9 in ./genai-bootcamp/lib/python3.10/site-packages (from jsonpatch<2.0,>=1.33->langchain-core<0.4.0,>=0.3.9->langchain-openai) (3.0.0)\n",
            "Requirement already satisfied: orjson<4.0.0,>=3.9.14 in ./genai-bootcamp/lib/python3.10/site-packages (from langsmith<0.2.0,>=0.1.125->langchain-core<0.4.0,>=0.3.9->langchain-openai) (3.10.7)\n",
            "Requirement already satisfied: requests-toolbelt<2.0.0,>=1.0.0 in ./genai-bootcamp/lib/python3.10/site-packages (from langsmith<0.2.0,>=0.1.125->langchain-core<0.4.0,>=0.3.9->langchain-openai) (1.0.0)\n",
            "Requirement already satisfied: annotated-types>=0.6.0 in ./genai-bootcamp/lib/python3.10/site-packages (from pydantic<3.0.0,>=2.5.2->langchain-core<0.4.0,>=0.3.9->langchain-openai) (0.7.0)\n",
            "Requirement already satisfied: pydantic-core==2.23.4 in ./genai-bootcamp/lib/python3.10/site-packages (from pydantic<3.0.0,>=2.5.2->langchain-core<0.4.0,>=0.3.9->langchain-openai) (2.23.4)\n",
            "Requirement already satisfied: charset-normalizer<4,>=2 in ./genai-bootcamp/lib/python3.10/site-packages (from requests>=2.26.0->tiktoken<1,>=0.7->langchain-openai) (3.3.2)\n",
            "Requirement already satisfied: urllib3<3,>=1.21.1 in ./genai-bootcamp/lib/python3.10/site-packages (from requests>=2.26.0->tiktoken<1,>=0.7->langchain-openai) (2.2.3)\n",
            "\n",
            "\u001b[1m[\u001b[0m\u001b[34;49mnotice\u001b[0m\u001b[1;39;49m]\u001b[0m\u001b[39;49m A new release of pip is available: \u001b[0m\u001b[31;49m24.0\u001b[0m\u001b[39;49m -> \u001b[0m\u001b[32;49m24.2\u001b[0m\n",
            "\u001b[1m[\u001b[0m\u001b[34;49mnotice\u001b[0m\u001b[1;39;49m]\u001b[0m\u001b[39;49m To update, run: \u001b[0m\u001b[32;49mpip install --upgrade pip\u001b[0m\n",
            "Note: you may need to restart the kernel to use updated packages.\n"
          ]
        }
      ],
      "source": [
        "# Installing essential library\n",
        "!pip install langchain-openai==0.2.3"
      ]
    },
    {
      "cell_type": "markdown",
      "metadata": {
        "id": "bzzamJ9UBJ9Q"
      },
      "source": [
        "Get OpenAI API key: https://platform.openai.com/account/api-keys"
      ]
    },
    {
      "cell_type": "code",
      "execution_count": null,
      "metadata": {
        "id": "6-MUWqV7Afiy"
      },
      "outputs": [],
      "source": [
        "# Saving the API key\n",
        "\n",
        "import os\n",
        "os.environ['OPENAI_API_KEY'] = \"\""
      ]
    },
    {
      "cell_type": "code",
      "execution_count": null,
      "metadata": {
        "id": "QhOI_FG7A5DI"
      },
      "outputs": [],
      "source": [
        "# Import ChatOpenAI module\n",
        "from langchain_openai import ChatOpenAI\n",
        "\n",
        "# Initialize OpenAI's GPT-4o-mini\n",
        "gpt4o_mini = ChatOpenAI(model_name = \"gpt-4o-mini\")  # use \"gpt-4o\" for larger GPT-4 model\n",
        "\n",
        "gpt4o = ChatOpenAI(model_name = \"gpt-4o\")"
      ]
    },
    {
      "cell_type": "code",
      "execution_count": null,
      "metadata": {
        "colab": {
          "base_uri": "https://localhost:8080/"
        },
        "id": "bkyDYBrZCDXm",
        "outputId": "5ae815ab-4aa9-4f18-c968-e193f1a5edce"
      },
      "outputs": [
        {
          "data": {
            "text/plain": [
              "AIMessage(content='I am an AI language model created by OpenAI, designed to assist with a variety of tasks, answer questions, and provide information on a wide range of topics. How can I help you today?', additional_kwargs={'refusal': None}, response_metadata={'token_usage': {'completion_tokens': 40, 'prompt_tokens': 11, 'total_tokens': 51, 'completion_tokens_details': {'audio_tokens': None, 'reasoning_tokens': 0}, 'prompt_tokens_details': {'audio_tokens': None, 'cached_tokens': 0}}, 'model_name': 'gpt-4o-mini-2024-07-18', 'system_fingerprint': 'fp_f85bea6784', 'finish_reason': 'stop', 'logprobs': None}, id='run-2ad116bd-3cf2-4d3d-a95c-5ed6ff4b9118-0', usage_metadata={'input_tokens': 11, 'output_tokens': 40, 'total_tokens': 51, 'input_token_details': {'cache_read': 0}, 'output_token_details': {'reasoning': 0}})"
            ]
          },
          "execution_count": 4,
          "metadata": {},
          "output_type": "execute_result"
        }
      ],
      "source": [
        "# Example of using the GPT-4o-mini model\n",
        "\n",
        "response = gpt4o_mini.invoke(\"Who are you?\")\n",
        "\n",
        "response"
      ]
    },
    {
      "cell_type": "code",
      "execution_count": null,
      "metadata": {
        "colab": {
          "base_uri": "https://localhost:8080/"
        },
        "id": "ldkmBZb9CNh6",
        "outputId": "53d0d9b6-2b7a-4860-fd80-548fc4580ad9"
      },
      "outputs": [
        {
          "name": "stdout",
          "output_type": "stream",
          "text": [
            "I am an AI language model created by OpenAI, designed to assist with a variety of tasks, answer questions, and provide information on a wide range of topics. How can I help you today?\n"
          ]
        }
      ],
      "source": [
        "print(response.content)"
      ]
    },
    {
      "cell_type": "code",
      "execution_count": null,
      "metadata": {
        "id": "Ls44lin5RsYo",
        "outputId": "00e3f310-d1c5-4f06-b5b0-6adf0a925bd8"
      },
      "outputs": [
        {
          "data": {
            "text/plain": [
              "AIMessage(content='Acid rain refers to any form of precipitation (rain, snow, fog, etc.) that has a lower pH than normal, making it more acidic. This phenomenon is primarily caused by the release of sulfur dioxide (SO2) and nitrogen oxides (NOx) into the atmosphere. Here’s how the process works:\\n\\n1. **Emission of Pollutants**: \\n   - Burning fossil fuels such as coal, oil, and natural gas releases sulfur dioxide and nitrogen oxides into the atmosphere. These emissions primarily come from power plants, industrial facilities, and vehicles.\\n\\n2. **Chemical Reactions in the Atmosphere**: \\n   - Once released, sulfur dioxide and nitrogen oxides react with water vapor, oxygen, and other chemicals in the atmosphere. \\n   - For sulfur dioxide, the reaction can be summarized as follows:\\n     - SO2 + H2O + O2 → H2SO4 (sulfuric acid)\\n   - For nitrogen oxides, the reaction can be:\\n     - 2 NO2 + H2O → HNO3 (nitric acid) + HNO2 (nitrous acid)\\n   - These reactions form strong acids that can then dissolve in water droplets present in the atmosphere.\\n\\n3. **Formation of Acid Rain**: \\n   - The acids formed (sulfuric and nitric acids) mix with the water droplets in clouds. When these droplets coalesce and fall to the ground as precipitation, they carry the acids with them, resulting in acid rain.\\n\\n4. **Impact on the Environment**: \\n   - Acid rain can have harmful effects on the environment, including:\\n     - **Soil**: It can lead to soil acidification, which negatively affects plant growth by leaching essential nutrients like calcium and magnesium.\\n     - **Water Bodies**: It can lower the pH of rivers, lakes, and streams, making them inhospitable for aquatic life. Fish and other organisms may struggle to survive in acidic conditions.\\n     - **Vegetation**: Acid rain can damage leaves and bark, weaken trees, and make them more susceptible to diseases and harsh weather conditions.\\n     - **Built Structures**: It can corrode buildings, monuments, and infrastructure, particularly those made of limestone and marble.\\n\\n5. **Mitigation**: \\n   - Efforts to reduce acid rain focus on decreasing emissions of sulfur dioxide and nitrogen oxides. This includes adopting cleaner energy sources, implementing stricter emissions regulations, and utilizing technologies like scrubbers in industrial facilities to capture pollutants before they are released into the atmosphere.\\n\\nOverall, acid rain is a significant environmental issue driven by human activities, and understanding its causes and effects is crucial for developing strategies to mitigate its impact.', additional_kwargs={'refusal': None}, response_metadata={'token_usage': {'completion_tokens': 551, 'prompt_tokens': 12, 'total_tokens': 563, 'completion_tokens_details': {'audio_tokens': None, 'reasoning_tokens': 0}, 'prompt_tokens_details': {'audio_tokens': None, 'cached_tokens': 0}}, 'model_name': 'gpt-4o-mini-2024-07-18', 'system_fingerprint': 'fp_f85bea6784', 'finish_reason': 'stop', 'logprobs': None}, id='run-2b576a13-9fa5-4a6f-b776-94536395d800-0', usage_metadata={'input_tokens': 12, 'output_tokens': 551, 'total_tokens': 563, 'input_token_details': {'cache_read': 0}, 'output_token_details': {'reasoning': 0}})"
            ]
          },
          "execution_count": 6,
          "metadata": {},
          "output_type": "execute_result"
        }
      ],
      "source": [
        "response = gpt4o_mini.invoke(\"Explain how acid rains work\")\n",
        "\n",
        "response"
      ]
    },
    {
      "cell_type": "markdown",
      "metadata": {
        "id": "yG7CV0imBsat"
      },
      "source": [
        "## Using Gemini Models"
      ]
    },
    {
      "cell_type": "code",
      "execution_count": null,
      "metadata": {
        "id": "XEOW16KuBsFg",
        "outputId": "edd4e1da-7271-42bd-ca36-a2722af3a42a"
      },
      "outputs": [
        {
          "name": "stdout",
          "output_type": "stream",
          "text": [
            "Requirement already satisfied: langchain-google-genai in ./genai-bootcamp/lib/python3.10/site-packages (2.0.0)\n",
            "Requirement already satisfied: google-generativeai<0.8.0,>=0.7.0 in ./genai-bootcamp/lib/python3.10/site-packages (from langchain-google-genai) (0.7.2)\n",
            "Requirement already satisfied: langchain-core<0.4,>=0.3.0 in ./genai-bootcamp/lib/python3.10/site-packages (from langchain-google-genai) (0.3.9)\n",
            "Requirement already satisfied: pydantic<3,>=2 in ./genai-bootcamp/lib/python3.10/site-packages (from langchain-google-genai) (2.9.2)\n",
            "Requirement already satisfied: google-ai-generativelanguage==0.6.6 in ./genai-bootcamp/lib/python3.10/site-packages (from google-generativeai<0.8.0,>=0.7.0->langchain-google-genai) (0.6.6)\n",
            "Requirement already satisfied: google-api-core in ./genai-bootcamp/lib/python3.10/site-packages (from google-generativeai<0.8.0,>=0.7.0->langchain-google-genai) (2.20.0)\n",
            "Requirement already satisfied: google-api-python-client in ./genai-bootcamp/lib/python3.10/site-packages (from google-generativeai<0.8.0,>=0.7.0->langchain-google-genai) (2.147.0)\n",
            "Requirement already satisfied: google-auth>=2.15.0 in ./genai-bootcamp/lib/python3.10/site-packages (from google-generativeai<0.8.0,>=0.7.0->langchain-google-genai) (2.35.0)\n",
            "Requirement already satisfied: protobuf in ./genai-bootcamp/lib/python3.10/site-packages (from google-generativeai<0.8.0,>=0.7.0->langchain-google-genai) (4.25.5)\n",
            "Requirement already satisfied: tqdm in ./genai-bootcamp/lib/python3.10/site-packages (from google-generativeai<0.8.0,>=0.7.0->langchain-google-genai) (4.66.5)\n",
            "Requirement already satisfied: typing-extensions in ./genai-bootcamp/lib/python3.10/site-packages (from google-generativeai<0.8.0,>=0.7.0->langchain-google-genai) (4.12.2)\n",
            "Requirement already satisfied: proto-plus<2.0.0dev,>=1.22.3 in ./genai-bootcamp/lib/python3.10/site-packages (from google-ai-generativelanguage==0.6.6->google-generativeai<0.8.0,>=0.7.0->langchain-google-genai) (1.24.0)\n",
            "Requirement already satisfied: PyYAML>=5.3 in ./genai-bootcamp/lib/python3.10/site-packages (from langchain-core<0.4,>=0.3.0->langchain-google-genai) (6.0.2)\n",
            "Requirement already satisfied: jsonpatch<2.0,>=1.33 in ./genai-bootcamp/lib/python3.10/site-packages (from langchain-core<0.4,>=0.3.0->langchain-google-genai) (1.33)\n",
            "Requirement already satisfied: langsmith<0.2.0,>=0.1.125 in ./genai-bootcamp/lib/python3.10/site-packages (from langchain-core<0.4,>=0.3.0->langchain-google-genai) (0.1.131)\n",
            "Requirement already satisfied: packaging<25,>=23.2 in ./genai-bootcamp/lib/python3.10/site-packages (from langchain-core<0.4,>=0.3.0->langchain-google-genai) (24.1)\n",
            "Requirement already satisfied: tenacity!=8.4.0,<9.0.0,>=8.1.0 in ./genai-bootcamp/lib/python3.10/site-packages (from langchain-core<0.4,>=0.3.0->langchain-google-genai) (8.5.0)\n",
            "Requirement already satisfied: annotated-types>=0.6.0 in ./genai-bootcamp/lib/python3.10/site-packages (from pydantic<3,>=2->langchain-google-genai) (0.7.0)\n",
            "Requirement already satisfied: pydantic-core==2.23.4 in ./genai-bootcamp/lib/python3.10/site-packages (from pydantic<3,>=2->langchain-google-genai) (2.23.4)\n",
            "Requirement already satisfied: googleapis-common-protos<2.0.dev0,>=1.56.2 in ./genai-bootcamp/lib/python3.10/site-packages (from google-api-core->google-generativeai<0.8.0,>=0.7.0->langchain-google-genai) (1.65.0)\n",
            "Requirement already satisfied: requests<3.0.0.dev0,>=2.18.0 in ./genai-bootcamp/lib/python3.10/site-packages (from google-api-core->google-generativeai<0.8.0,>=0.7.0->langchain-google-genai) (2.32.3)\n",
            "Requirement already satisfied: cachetools<6.0,>=2.0.0 in ./genai-bootcamp/lib/python3.10/site-packages (from google-auth>=2.15.0->google-generativeai<0.8.0,>=0.7.0->langchain-google-genai) (5.5.0)\n",
            "Requirement already satisfied: pyasn1-modules>=0.2.1 in ./genai-bootcamp/lib/python3.10/site-packages (from google-auth>=2.15.0->google-generativeai<0.8.0,>=0.7.0->langchain-google-genai) (0.4.1)\n",
            "Requirement already satisfied: rsa<5,>=3.1.4 in ./genai-bootcamp/lib/python3.10/site-packages (from google-auth>=2.15.0->google-generativeai<0.8.0,>=0.7.0->langchain-google-genai) (4.9)\n",
            "Requirement already satisfied: jsonpointer>=1.9 in ./genai-bootcamp/lib/python3.10/site-packages (from jsonpatch<2.0,>=1.33->langchain-core<0.4,>=0.3.0->langchain-google-genai) (3.0.0)\n",
            "Requirement already satisfied: httpx<1,>=0.23.0 in ./genai-bootcamp/lib/python3.10/site-packages (from langsmith<0.2.0,>=0.1.125->langchain-core<0.4,>=0.3.0->langchain-google-genai) (0.27.2)\n",
            "Requirement already satisfied: orjson<4.0.0,>=3.9.14 in ./genai-bootcamp/lib/python3.10/site-packages (from langsmith<0.2.0,>=0.1.125->langchain-core<0.4,>=0.3.0->langchain-google-genai) (3.10.7)\n",
            "Requirement already satisfied: requests-toolbelt<2.0.0,>=1.0.0 in ./genai-bootcamp/lib/python3.10/site-packages (from langsmith<0.2.0,>=0.1.125->langchain-core<0.4,>=0.3.0->langchain-google-genai) (1.0.0)\n",
            "Requirement already satisfied: httplib2<1.dev0,>=0.19.0 in ./genai-bootcamp/lib/python3.10/site-packages (from google-api-python-client->google-generativeai<0.8.0,>=0.7.0->langchain-google-genai) (0.22.0)\n",
            "Requirement already satisfied: google-auth-httplib2<1.0.0,>=0.2.0 in ./genai-bootcamp/lib/python3.10/site-packages (from google-api-python-client->google-generativeai<0.8.0,>=0.7.0->langchain-google-genai) (0.2.0)\n",
            "Requirement already satisfied: uritemplate<5,>=3.0.1 in ./genai-bootcamp/lib/python3.10/site-packages (from google-api-python-client->google-generativeai<0.8.0,>=0.7.0->langchain-google-genai) (4.1.1)\n",
            "Requirement already satisfied: grpcio<2.0dev,>=1.33.2 in ./genai-bootcamp/lib/python3.10/site-packages (from google-api-core[grpc]!=2.0.*,!=2.1.*,!=2.10.*,!=2.2.*,!=2.3.*,!=2.4.*,!=2.5.*,!=2.6.*,!=2.7.*,!=2.8.*,!=2.9.*,<3.0.0dev,>=1.34.1->google-ai-generativelanguage==0.6.6->google-generativeai<0.8.0,>=0.7.0->langchain-google-genai) (1.66.2)\n",
            "Requirement already satisfied: grpcio-status<2.0.dev0,>=1.33.2 in ./genai-bootcamp/lib/python3.10/site-packages (from google-api-core[grpc]!=2.0.*,!=2.1.*,!=2.10.*,!=2.2.*,!=2.3.*,!=2.4.*,!=2.5.*,!=2.6.*,!=2.7.*,!=2.8.*,!=2.9.*,<3.0.0dev,>=1.34.1->google-ai-generativelanguage==0.6.6->google-generativeai<0.8.0,>=0.7.0->langchain-google-genai) (1.62.3)\n",
            "Requirement already satisfied: pyparsing!=3.0.0,!=3.0.1,!=3.0.2,!=3.0.3,<4,>=2.4.2 in ./genai-bootcamp/lib/python3.10/site-packages (from httplib2<1.dev0,>=0.19.0->google-api-python-client->google-generativeai<0.8.0,>=0.7.0->langchain-google-genai) (3.1.4)\n",
            "Requirement already satisfied: anyio in ./genai-bootcamp/lib/python3.10/site-packages (from httpx<1,>=0.23.0->langsmith<0.2.0,>=0.1.125->langchain-core<0.4,>=0.3.0->langchain-google-genai) (4.6.0)\n",
            "Requirement already satisfied: certifi in ./genai-bootcamp/lib/python3.10/site-packages (from httpx<1,>=0.23.0->langsmith<0.2.0,>=0.1.125->langchain-core<0.4,>=0.3.0->langchain-google-genai) (2024.8.30)\n",
            "Requirement already satisfied: httpcore==1.* in ./genai-bootcamp/lib/python3.10/site-packages (from httpx<1,>=0.23.0->langsmith<0.2.0,>=0.1.125->langchain-core<0.4,>=0.3.0->langchain-google-genai) (1.0.6)\n",
            "Requirement already satisfied: idna in ./genai-bootcamp/lib/python3.10/site-packages (from httpx<1,>=0.23.0->langsmith<0.2.0,>=0.1.125->langchain-core<0.4,>=0.3.0->langchain-google-genai) (3.10)\n",
            "Requirement already satisfied: sniffio in ./genai-bootcamp/lib/python3.10/site-packages (from httpx<1,>=0.23.0->langsmith<0.2.0,>=0.1.125->langchain-core<0.4,>=0.3.0->langchain-google-genai) (1.3.1)\n",
            "Requirement already satisfied: h11<0.15,>=0.13 in ./genai-bootcamp/lib/python3.10/site-packages (from httpcore==1.*->httpx<1,>=0.23.0->langsmith<0.2.0,>=0.1.125->langchain-core<0.4,>=0.3.0->langchain-google-genai) (0.14.0)\n",
            "Requirement already satisfied: pyasn1<0.7.0,>=0.4.6 in ./genai-bootcamp/lib/python3.10/site-packages (from pyasn1-modules>=0.2.1->google-auth>=2.15.0->google-generativeai<0.8.0,>=0.7.0->langchain-google-genai) (0.6.1)\n",
            "Requirement already satisfied: charset-normalizer<4,>=2 in ./genai-bootcamp/lib/python3.10/site-packages (from requests<3.0.0.dev0,>=2.18.0->google-api-core->google-generativeai<0.8.0,>=0.7.0->langchain-google-genai) (3.3.2)\n",
            "Requirement already satisfied: urllib3<3,>=1.21.1 in ./genai-bootcamp/lib/python3.10/site-packages (from requests<3.0.0.dev0,>=2.18.0->google-api-core->google-generativeai<0.8.0,>=0.7.0->langchain-google-genai) (2.2.3)\n",
            "Requirement already satisfied: exceptiongroup>=1.0.2 in ./genai-bootcamp/lib/python3.10/site-packages (from anyio->httpx<1,>=0.23.0->langsmith<0.2.0,>=0.1.125->langchain-core<0.4,>=0.3.0->langchain-google-genai) (1.2.2)\n",
            "\n",
            "\u001b[1m[\u001b[0m\u001b[34;49mnotice\u001b[0m\u001b[1;39;49m]\u001b[0m\u001b[39;49m A new release of pip is available: \u001b[0m\u001b[31;49m24.0\u001b[0m\u001b[39;49m -> \u001b[0m\u001b[32;49m24.2\u001b[0m\n",
            "\u001b[1m[\u001b[0m\u001b[34;49mnotice\u001b[0m\u001b[1;39;49m]\u001b[0m\u001b[39;49m To update, run: \u001b[0m\u001b[32;49mpip install --upgrade pip\u001b[0m\n",
            "Note: you may need to restart the kernel to use updated packages.\n"
          ]
        }
      ],
      "source": [
        "# Installing Langchain's Google Gen AI library\n",
        "%pip install langchain-google-genai==2.0.1"
      ]
    },
    {
      "cell_type": "markdown",
      "metadata": {
        "id": "6E4kd2j-B1-q"
      },
      "source": [
        "Get Google API key: https://aistudio.google.com (FREE)"
      ]
    },
    {
      "cell_type": "code",
      "execution_count": null,
      "metadata": {
        "id": "JgP7harNBzk3"
      },
      "outputs": [],
      "source": [
        "# Saving the API key\n",
        "import os\n",
        "\n",
        "os.environ['GOOGLE_API_KEY']  = \"\""
      ]
    },
    {
      "cell_type": "code",
      "execution_count": null,
      "metadata": {
        "id": "sShoMxF2Cgku",
        "outputId": "1fefee9f-e8d5-492a-b2a5-50023837d931"
      },
      "outputs": [
        {
          "name": "stderr",
          "output_type": "stream",
          "text": [
            "/Users/satvikp/Desktop/GenAI_Bootcamp/notebooks/genai-bootcamp/lib/python3.10/site-packages/tqdm/auto.py:21: TqdmWarning: IProgress not found. Please update jupyter and ipywidgets. See https://ipywidgets.readthedocs.io/en/stable/user_install.html\n",
            "  from .autonotebook import tqdm as notebook_tqdm\n"
          ]
        }
      ],
      "source": [
        "# Using Google Models (Gemini Flash)\n",
        "from langchain_google_genai import ChatGoogleGenerativeAI\n",
        "\n",
        "# Initialize Google's Gemini model\n",
        "gemini_flash_model = ChatGoogleGenerativeAI(model = \"gemini-1.5-flash-latest\") # use \"gemini-1.5-pro-002\" for Gemini Pro model"
      ]
    },
    {
      "cell_type": "code",
      "execution_count": null,
      "metadata": {
        "colab": {
          "base_uri": "https://localhost:8080/"
        },
        "id": "uIgczp_eC1qi",
        "outputId": "286c9cce-43b4-4c4a-fd72-1cf12d3a7846"
      },
      "outputs": [
        {
          "name": "stdout",
          "output_type": "stream",
          "text": [
            "## Transformers Architecture: A Deep Dive\n",
            "\n",
            "Transformers are a type of neural network architecture that revolutionized natural language processing (NLP) and are now widely used in various fields like computer vision and time series analysis. Here's a breakdown of their architecture:\n",
            "\n",
            "**Core Components:**\n",
            "\n",
            "1. **Encoder:** This part of the transformer processes the input sequence (e.g., a sentence) to generate a representation that captures its meaning and context. It consists of multiple layers, each with two main components:\n",
            "    * **Self-Attention:** This mechanism allows the model to attend to different parts of the input sequence and understand their relationships. It calculates attention weights for each word based on its relevance to other words in the sequence.\n",
            "    * **Feedforward Neural Network (FFNN):** This network applies a non-linear transformation to the attention-weighted representations, further enriching the encoded information.\n",
            "\n",
            "2. **Decoder:** This part of the transformer takes the encoded representation as input and generates the output sequence (e.g., translation, summary, or a generated text). It also consists of multiple layers with:\n",
            "    * **Masked Self-Attention:** Similar to the encoder, this component calculates attention weights but masks future words to prevent the model from \"seeing\" words that haven't been generated yet. This ensures a coherent and sequential output.\n",
            "    * **Encoder-Decoder Attention:** This mechanism allows the decoder to attend to the encoded representation of the input sequence, providing context for the output generation.\n",
            "    * **FFNN:** Similar to the encoder, this network transforms the attention-weighted representations.\n",
            "\n",
            "**Key Concepts:**\n",
            "\n",
            "* **Attention Mechanism:** The heart of transformers, attention allows the model to focus on relevant parts of the input sequence and weigh their importance. This is crucial for understanding long-range dependencies and capturing complex relationships between words.\n",
            "* **Positional Encoding:** Since transformers don't inherently understand the order of words, positional encoding is used to provide information about the position of each word in the sequence.\n",
            "* **Multi-Head Attention:** This technique allows the model to attend to different aspects of the input sequence simultaneously, by having multiple attention heads that focus on different features.\n",
            "* **Layer Normalization:** This technique helps to stabilize the training process and prevent vanishing gradients.\n",
            "\n",
            "**Advantages of Transformers:**\n",
            "\n",
            "* **Parallel Processing:** Transformers can process entire sequences in parallel, making them significantly faster than recurrent neural networks (RNNs) which process data sequentially.\n",
            "* **Long-Range Dependencies:** They excel at capturing long-range dependencies between words, which is crucial for understanding complex language structures.\n",
            "* **High Accuracy:** Transformers have achieved state-of-the-art results in various NLP tasks, including machine translation, text summarization, question answering, and sentiment analysis.\n",
            "\n",
            "**Applications:**\n",
            "\n",
            "* **Machine Translation:** Translating text from one language to another.\n",
            "* **Text Summarization:** Generating concise summaries of long texts.\n",
            "* **Question Answering:** Answering questions based on given context.\n",
            "* **Sentiment Analysis:** Determining the emotional tone of text.\n",
            "* **Speech Recognition:** Converting speech to text.\n",
            "* **Image Captioning:** Generating descriptions for images.\n",
            "* **Time Series Forecasting:** Predicting future values of time-dependent data.\n",
            "\n",
            "**Limitations:**\n",
            "\n",
            "* **Computational Cost:** Transformers can be computationally expensive to train and deploy, especially for large models.\n",
            "* **Lack of Interpretability:** It can be difficult to understand exactly how transformers make predictions, making it challenging to debug and interpret their decisions.\n",
            "\n",
            "**Conclusion:**\n",
            "\n",
            "Transformers have revolutionized NLP and continue to push the boundaries of what's possible in AI. Their ability to capture complex relationships and process data efficiently makes them a powerful tool for various applications. However, understanding their limitations and exploring ways to improve their interpretability and computational efficiency is crucial for their continued development.\n",
            "\n"
          ]
        }
      ],
      "source": [
        "# Example of using the Flash model\n",
        "\n",
        "response = gemini_flash_model.invoke(\"Explain transformers architecture.\")\n",
        "\n",
        "print(response.content)"
      ]
    },
    {
      "cell_type": "markdown",
      "metadata": {
        "id": "c1Ilgey2Dnzr"
      },
      "source": [
        "## Using Open-Source models\n",
        "\n",
        "We will demonstrate how you can use Llama, Mistral, etc using Together API.\n",
        "\n",
        "- Models by Together:  https://api.together.xyz/models\n",
        "- Get your Together API Key: https://api.together.xyz/settings/api-keys\n"
      ]
    },
    {
      "cell_type": "code",
      "execution_count": null,
      "metadata": {
        "colab": {
          "base_uri": "https://localhost:8080/"
        },
        "id": "pRp_L-xWGJ7r",
        "outputId": "a74e3367-d102-4237-a506-3b9b11305b92"
      },
      "outputs": [
        {
          "name": "stdout",
          "output_type": "stream",
          "text": [
            "I'm an artificial intelligence model known as Llama. Llama stands for \"Large Language Model Meta AI.\"\n"
          ]
        }
      ],
      "source": [
        "# Using a Llama Model\n",
        "\n",
        "from langchain_openai import ChatOpenAI\n",
        "\n",
        "llama_model = ChatOpenAI(model = \"meta-llama/Llama-3.2-90B-Vision-Instruct-Turbo\",\n",
        "                      openai_api_key = \"\", ## use your key\n",
        "                      openai_api_base = \"https://api.together.xyz/v1\"\n",
        "\n",
        ")\n",
        "\n",
        "\n",
        "response = llama_model.invoke(\"Who are you?\")\n",
        "\n",
        "print(response.content)"
      ]
    },
    {
      "cell_type": "code",
      "execution_count": null,
      "metadata": {
        "colab": {
          "base_uri": "https://localhost:8080/"
        },
        "id": "p2BWtukwGbea",
        "outputId": "1859aa47-582b-4eb9-91f2-f958f2c23f2f"
      },
      "outputs": [
        {
          "name": "stdout",
          "output_type": "stream",
          "text": [
            " I am an artificial intelligence assistant. I am designed to help answer questions, provide information, and assist with various tasks. I can help with a wide range of topics, from general knowledge to specific queries. My goal is to make your life easier by providing quick and accurate information.\n"
          ]
        }
      ],
      "source": [
        "# Using a Mixtral Model\n",
        "\n",
        "from langchain_openai import ChatOpenAI\n",
        "\n",
        "mixtral_model = ChatOpenAI(model = \"mistralai/Mixtral-8x22B-Instruct-v0.1\",\n",
        "                      openai_api_key = \"\", ## use your key\n",
        "                      openai_api_base = \"https://api.together.xyz/v1\")\n",
        "\n",
        "\n",
        "response = mixtral_model.invoke(\"Who are you?\")\n",
        "\n",
        "print(response.content)"
      ]
    },
    {
      "cell_type": "code",
      "execution_count": null,
      "metadata": {
        "id": "d364kWINGpes",
        "outputId": "0d25f44d-7524-4905-cf68-6c4f6efb5ae8"
      },
      "outputs": [
        {
          "name": "stdout",
          "output_type": "stream",
          "text": [
            " Once upon a time, in the bustling city of New York, there lived a humble violin maker named Antonio. He was an elderly man, with a thick Italian accent, and a heart full of passion for his craft. His violins were not just instruments; they were masterpieces, each one unique and filled with love.\n",
            "\n",
            "Antonio had a small shop in the heart of the city, where he spent his days crafting violins and sharing stories about his hometown in Italy. He was a beloved figure in the community, known for his kindness and the enchanting music that flowed from his shop.\n",
            "\n",
            "One day, a young girl named Emily wandered into Antonio's shop. She was a curious and adventurous child, always eager to learn new things. Emily was instantly captivated by the beauty of the violins and the warmth of Antonio's smile. She would visit the shop often, listening to Antonio's stories and watching him work.\n",
            "\n",
            "Antonio noticed Emily's interest and decided to teach her how to play the violin. He saw potential in her and wanted to nurture her talent. Emily was overjoyed and began taking lessons from Antonio. She practiced diligently, her love for the violin growing with each passing day.\n",
            "\n",
            "As Emily grew older, she became a talented violinist. She played in the city's symphony orchestra and was admired by many. However, Emily never forgot about Antonio. She continued to visit him, bringing him food and helping him around the shop.\n",
            "\n",
            "One winter, Antonio fell ill. He was too weak to make violins or even leave his bed. Emily took it upon herself to care for him. She would play the violin by his bedside, filling the room with music and warmth.\n",
            "\n",
            "Antonio's health improved, but he was no longer able to make violins. He was heartbroken, feeling that he had lost his purpose. Emily, seeing his distress, had an idea. She proposed that they make a violin together. Antonio was hesitant at first, but Emily's determination won him over.\n",
            "\n",
            "They spent the entire winter crafting the violin. Antonio guided Emily, teaching her the intricacies of violin making. It was a slow process, but they enjoyed every moment of it. The violin they created was a masterpiece, a testament to their friendship and love for music.\n",
            "\n",
            "When spring arrived, Antonio's health had improved significantly. He was filled with joy and gratitude, not just for his health, but for the time he spent with Emily. They decided to name the violin \"Primavera,\" Italian for spring, symbolizing the new beginning it represented for them.\n",
            "\n",
            "Emily played Primavera in her next concert. The music was more beautiful than ever, filled with the love and dedication she and Antonio had poured into the violin. The audience was moved to tears, feeling the emotion in every note.\n",
            "\n",
            "From then on, Emily and Antonio continued to make violins together. Their violins were sought after by musicians from all over the world. But for them, the true value of their craft was in the friendship, love, and music that went into each violin. And so, they lived out their days, creating beautiful music and sharing their love for the violin with the world.\n"
          ]
        }
      ],
      "source": [
        "response = mixtral_model.invoke(\"Tell me long story\")\n",
        "\n",
        "print(response.content)"
      ]
    },
    {
      "cell_type": "code",
      "execution_count": null,
      "metadata": {
        "id": "vm_1U_AQGpbw"
      },
      "outputs": [],
      "source": []
    }
  ],
  "metadata": {
    "colab": {
      "provenance": [],
      "include_colab_link": true
    },
    "kernelspec": {
      "display_name": "Python 3",
      "name": "python3"
    },
    "language_info": {
      "codemirror_mode": {
        "name": "ipython",
        "version": 3
      },
      "file_extension": ".py",
      "mimetype": "text/x-python",
      "name": "python",
      "nbconvert_exporter": "python",
      "pygments_lexer": "ipython3",
      "version": "3.10.14"
    }
  },
  "nbformat": 4,
  "nbformat_minor": 0
}